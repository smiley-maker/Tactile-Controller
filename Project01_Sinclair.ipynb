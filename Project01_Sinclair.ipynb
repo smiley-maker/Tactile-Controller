{
  "nbformat": 4,
  "nbformat_minor": 0,
  "metadata": {
    "colab": {
      "name": "Project01_Sinclair.ipynb",
      "provenance": [],
      "collapsed_sections": [
        "FJ68tf2U8wlY",
        "XK6hSBZWLSQg",
        "9sEEnOniKSv2",
        "JKwg3t0hhttA",
        "q7zG1aVdDiNH",
        "unohZh4s4X2L",
        "m1htqwqU9s9R"
      ]
    },
    "kernelspec": {
      "name": "python3",
      "display_name": "Python 3"
    },
    "language_info": {
      "name": "python"
    }
  },
  "cells": [
    {
      "cell_type": "markdown",
      "metadata": {
        "id": "yFJWdL6y7FHo"
      },
      "source": [
        "\n",
        "<h1><center><b>Project One</b></center></h1>"
      ]
    },
    {
      "cell_type": "markdown",
      "metadata": {
        "id": "YpaDve8t72pt"
      },
      "source": [
        "<h3><center><i>Jordan Sinclair</i></center></h3>"
      ]
    },
    {
      "cell_type": "markdown",
      "metadata": {
        "id": "FJ68tf2U8wlY"
      },
      "source": [
        "# <h1><center><b>Notebook Setup</b></center></h1>"
      ]
    },
    {
      "cell_type": "markdown",
      "metadata": {
        "id": "b6iWgQnbnBTj"
      },
      "source": [
        "When you are done with this notebook, run the following code cell to unmount Google Drive"
      ]
    },
    {
      "cell_type": "code",
      "metadata": {
        "id": "D78AM1fFt2ty",
        "colab": {
          "base_uri": "https://localhost:8080/"
        },
        "outputId": "4acc051a-d73a-4bef-83a7-f5c4ae756bdc"
      },
      "source": [
        "from google.colab import drive\n",
        "drive.flush_and_unmount()\n",
        "print('All changes made in this colab session should now be visible in Drive.')"
      ],
      "execution_count": null,
      "outputs": [
        {
          "output_type": "stream",
          "text": [
            "All changes made in this colab session should now be visible in Drive.\n"
          ],
          "name": "stdout"
        }
      ]
    },
    {
      "cell_type": "markdown",
      "metadata": {
        "id": "zPzhOpDUvfAL"
      },
      "source": [
        "The following code cell installs additional dependencies required to run the Jupyter Notebooks used in this class.\n",
        "\n"
      ]
    },
    {
      "cell_type": "code",
      "metadata": {
        "id": "qjPAPnLLTN4x",
        "colab": {
          "base_uri": "https://localhost:8080/"
        },
        "outputId": "360b7b44-3667-4f9f-a2a5-514689547970"
      },
      "source": [
        "# Add additional Python packages that we will be using in class\n",
        "!apt install graphviz build-essential checkinstall imagemagick\n",
        "# Base Python packages to run example Jupyter Notebooks\n",
        "!pip install watermark pyprind mlxtend\n",
        "# Python packages to visualize Decision Tree Classifiers\n",
        "!pip install pydotplus graphviz pyparsing\n",
        "# Python packages for Natrual Language Processing\n",
        "!pip install nltk\n",
        "# Python packages for Flask-based web applications\n",
        "!pip install flask wtforms\n",
        "# Python packages for TensorFlow\n",
        "!pip install tensorflow tensorflow-datasets"
      ],
      "execution_count": null,
      "outputs": [
        {
          "output_type": "stream",
          "text": [
            "Reading package lists... Done\n",
            "Building dependency tree       \n",
            "Reading state information... Done\n",
            "build-essential is already the newest version (12.4ubuntu1).\n",
            "checkinstall is already the newest version (1.6.2-4ubuntu2).\n",
            "graphviz is already the newest version (2.40.1-2).\n",
            "imagemagick is already the newest version (8:6.9.7.4+dfsg-16ubuntu6.11).\n",
            "0 upgraded, 0 newly installed, 0 to remove and 40 not upgraded.\n",
            "Requirement already satisfied: watermark in /usr/local/lib/python3.7/dist-packages (2.2.0)\n",
            "Requirement already satisfied: pyprind in /usr/local/lib/python3.7/dist-packages (2.11.3)\n",
            "Requirement already satisfied: mlxtend in /usr/local/lib/python3.7/dist-packages (0.14.0)\n",
            "Requirement already satisfied: importlib-metadata<3.0 in /usr/local/lib/python3.7/dist-packages (from watermark) (2.1.1)\n",
            "Requirement already satisfied: ipython in /usr/local/lib/python3.7/dist-packages (from watermark) (5.5.0)\n",
            "Requirement already satisfied: zipp>=0.5 in /usr/local/lib/python3.7/dist-packages (from importlib-metadata<3.0->watermark) (3.5.0)\n",
            "Requirement already satisfied: pandas>=0.17.1 in /usr/local/lib/python3.7/dist-packages (from mlxtend) (1.1.5)\n",
            "Requirement already satisfied: matplotlib>=1.5.1 in /usr/local/lib/python3.7/dist-packages (from mlxtend) (3.2.2)\n",
            "Requirement already satisfied: scipy>=0.17 in /usr/local/lib/python3.7/dist-packages (from mlxtend) (1.4.1)\n",
            "Requirement already satisfied: scikit-learn>=0.18 in /usr/local/lib/python3.7/dist-packages (from mlxtend) (0.22.2.post1)\n",
            "Requirement already satisfied: numpy>=1.10.4 in /usr/local/lib/python3.7/dist-packages (from mlxtend) (1.19.5)\n",
            "Requirement already satisfied: setuptools in /usr/local/lib/python3.7/dist-packages (from mlxtend) (57.2.0)\n",
            "Requirement already satisfied: kiwisolver>=1.0.1 in /usr/local/lib/python3.7/dist-packages (from matplotlib>=1.5.1->mlxtend) (1.3.1)\n",
            "Requirement already satisfied: cycler>=0.10 in /usr/local/lib/python3.7/dist-packages (from matplotlib>=1.5.1->mlxtend) (0.10.0)\n",
            "Requirement already satisfied: python-dateutil>=2.1 in /usr/local/lib/python3.7/dist-packages (from matplotlib>=1.5.1->mlxtend) (2.8.1)\n",
            "Requirement already satisfied: pyparsing!=2.0.4,!=2.1.2,!=2.1.6,>=2.0.1 in /usr/local/lib/python3.7/dist-packages (from matplotlib>=1.5.1->mlxtend) (2.4.7)\n",
            "Requirement already satisfied: six in /usr/local/lib/python3.7/dist-packages (from cycler>=0.10->matplotlib>=1.5.1->mlxtend) (1.15.0)\n",
            "Requirement already satisfied: pytz>=2017.2 in /usr/local/lib/python3.7/dist-packages (from pandas>=0.17.1->mlxtend) (2018.9)\n",
            "Requirement already satisfied: joblib>=0.11 in /usr/local/lib/python3.7/dist-packages (from scikit-learn>=0.18->mlxtend) (1.0.1)\n",
            "Requirement already satisfied: pexpect in /usr/local/lib/python3.7/dist-packages (from ipython->watermark) (4.8.0)\n",
            "Requirement already satisfied: prompt-toolkit<2.0.0,>=1.0.4 in /usr/local/lib/python3.7/dist-packages (from ipython->watermark) (1.0.18)\n",
            "Requirement already satisfied: traitlets>=4.2 in /usr/local/lib/python3.7/dist-packages (from ipython->watermark) (5.0.5)\n",
            "Requirement already satisfied: pygments in /usr/local/lib/python3.7/dist-packages (from ipython->watermark) (2.6.1)\n",
            "Requirement already satisfied: pickleshare in /usr/local/lib/python3.7/dist-packages (from ipython->watermark) (0.7.5)\n",
            "Requirement already satisfied: simplegeneric>0.8 in /usr/local/lib/python3.7/dist-packages (from ipython->watermark) (0.8.1)\n",
            "Requirement already satisfied: decorator in /usr/local/lib/python3.7/dist-packages (from ipython->watermark) (4.4.2)\n",
            "Requirement already satisfied: wcwidth in /usr/local/lib/python3.7/dist-packages (from prompt-toolkit<2.0.0,>=1.0.4->ipython->watermark) (0.2.5)\n",
            "Requirement already satisfied: ipython-genutils in /usr/local/lib/python3.7/dist-packages (from traitlets>=4.2->ipython->watermark) (0.2.0)\n",
            "Requirement already satisfied: ptyprocess>=0.5 in /usr/local/lib/python3.7/dist-packages (from pexpect->ipython->watermark) (0.7.0)\n",
            "Requirement already satisfied: pydotplus in /usr/local/lib/python3.7/dist-packages (2.0.2)\n",
            "Requirement already satisfied: graphviz in /usr/local/lib/python3.7/dist-packages (0.10.1)\n",
            "Requirement already satisfied: pyparsing in /usr/local/lib/python3.7/dist-packages (2.4.7)\n",
            "Requirement already satisfied: nltk in /usr/local/lib/python3.7/dist-packages (3.2.5)\n",
            "Requirement already satisfied: six in /usr/local/lib/python3.7/dist-packages (from nltk) (1.15.0)\n",
            "Requirement already satisfied: flask in /usr/local/lib/python3.7/dist-packages (1.1.4)\n",
            "Requirement already satisfied: wtforms in /usr/local/lib/python3.7/dist-packages (2.3.3)\n",
            "Requirement already satisfied: itsdangerous<2.0,>=0.24 in /usr/local/lib/python3.7/dist-packages (from flask) (1.1.0)\n",
            "Requirement already satisfied: click<8.0,>=5.1 in /usr/local/lib/python3.7/dist-packages (from flask) (7.1.2)\n",
            "Requirement already satisfied: Jinja2<3.0,>=2.10.1 in /usr/local/lib/python3.7/dist-packages (from flask) (2.11.3)\n",
            "Requirement already satisfied: Werkzeug<2.0,>=0.15 in /usr/local/lib/python3.7/dist-packages (from flask) (1.0.1)\n",
            "Requirement already satisfied: MarkupSafe>=0.23 in /usr/local/lib/python3.7/dist-packages (from Jinja2<3.0,>=2.10.1->flask) (2.0.1)\n",
            "Requirement already satisfied: tensorflow in /usr/local/lib/python3.7/dist-packages (2.5.0)\n",
            "Requirement already satisfied: tensorflow-datasets in /usr/local/lib/python3.7/dist-packages (4.0.1)\n",
            "Requirement already satisfied: tensorflow-estimator<2.6.0,>=2.5.0rc0 in /usr/local/lib/python3.7/dist-packages (from tensorflow) (2.5.0)\n",
            "Requirement already satisfied: h5py~=3.1.0 in /usr/local/lib/python3.7/dist-packages (from tensorflow) (3.1.0)\n",
            "Requirement already satisfied: keras-nightly~=2.5.0.dev in /usr/local/lib/python3.7/dist-packages (from tensorflow) (2.5.0.dev2021032900)\n",
            "Requirement already satisfied: google-pasta~=0.2 in /usr/local/lib/python3.7/dist-packages (from tensorflow) (0.2.0)\n",
            "Requirement already satisfied: typing-extensions~=3.7.4 in /usr/local/lib/python3.7/dist-packages (from tensorflow) (3.7.4.3)\n",
            "Requirement already satisfied: termcolor~=1.1.0 in /usr/local/lib/python3.7/dist-packages (from tensorflow) (1.1.0)\n",
            "Requirement already satisfied: protobuf>=3.9.2 in /usr/local/lib/python3.7/dist-packages (from tensorflow) (3.17.3)\n",
            "Requirement already satisfied: grpcio~=1.34.0 in /usr/local/lib/python3.7/dist-packages (from tensorflow) (1.34.1)\n",
            "Requirement already satisfied: six~=1.15.0 in /usr/local/lib/python3.7/dist-packages (from tensorflow) (1.15.0)\n",
            "Requirement already satisfied: opt-einsum~=3.3.0 in /usr/local/lib/python3.7/dist-packages (from tensorflow) (3.3.0)\n",
            "Requirement already satisfied: astunparse~=1.6.3 in /usr/local/lib/python3.7/dist-packages (from tensorflow) (1.6.3)\n",
            "Requirement already satisfied: absl-py~=0.10 in /usr/local/lib/python3.7/dist-packages (from tensorflow) (0.12.0)\n",
            "Requirement already satisfied: tensorboard~=2.5 in /usr/local/lib/python3.7/dist-packages (from tensorflow) (2.5.0)\n",
            "Requirement already satisfied: gast==0.4.0 in /usr/local/lib/python3.7/dist-packages (from tensorflow) (0.4.0)\n",
            "Requirement already satisfied: wrapt~=1.12.1 in /usr/local/lib/python3.7/dist-packages (from tensorflow) (1.12.1)\n",
            "Requirement already satisfied: flatbuffers~=1.12.0 in /usr/local/lib/python3.7/dist-packages (from tensorflow) (1.12)\n",
            "Requirement already satisfied: keras-preprocessing~=1.1.2 in /usr/local/lib/python3.7/dist-packages (from tensorflow) (1.1.2)\n",
            "Requirement already satisfied: wheel~=0.35 in /usr/local/lib/python3.7/dist-packages (from tensorflow) (0.36.2)\n",
            "Requirement already satisfied: numpy~=1.19.2 in /usr/local/lib/python3.7/dist-packages (from tensorflow) (1.19.5)\n",
            "Requirement already satisfied: cached-property in /usr/local/lib/python3.7/dist-packages (from h5py~=3.1.0->tensorflow) (1.5.2)\n",
            "Requirement already satisfied: requests<3,>=2.21.0 in /usr/local/lib/python3.7/dist-packages (from tensorboard~=2.5->tensorflow) (2.23.0)\n",
            "Requirement already satisfied: setuptools>=41.0.0 in /usr/local/lib/python3.7/dist-packages (from tensorboard~=2.5->tensorflow) (57.2.0)\n",
            "Requirement already satisfied: google-auth-oauthlib<0.5,>=0.4.1 in /usr/local/lib/python3.7/dist-packages (from tensorboard~=2.5->tensorflow) (0.4.4)\n",
            "Requirement already satisfied: tensorboard-plugin-wit>=1.6.0 in /usr/local/lib/python3.7/dist-packages (from tensorboard~=2.5->tensorflow) (1.8.0)\n",
            "Requirement already satisfied: google-auth<2,>=1.6.3 in /usr/local/lib/python3.7/dist-packages (from tensorboard~=2.5->tensorflow) (1.32.1)\n",
            "Requirement already satisfied: werkzeug>=0.11.15 in /usr/local/lib/python3.7/dist-packages (from tensorboard~=2.5->tensorflow) (1.0.1)\n",
            "Requirement already satisfied: tensorboard-data-server<0.7.0,>=0.6.0 in /usr/local/lib/python3.7/dist-packages (from tensorboard~=2.5->tensorflow) (0.6.1)\n",
            "Requirement already satisfied: markdown>=2.6.8 in /usr/local/lib/python3.7/dist-packages (from tensorboard~=2.5->tensorflow) (3.3.4)\n",
            "Requirement already satisfied: rsa<5,>=3.1.4 in /usr/local/lib/python3.7/dist-packages (from google-auth<2,>=1.6.3->tensorboard~=2.5->tensorflow) (4.7.2)\n",
            "Requirement already satisfied: pyasn1-modules>=0.2.1 in /usr/local/lib/python3.7/dist-packages (from google-auth<2,>=1.6.3->tensorboard~=2.5->tensorflow) (0.2.8)\n",
            "Requirement already satisfied: cachetools<5.0,>=2.0.0 in /usr/local/lib/python3.7/dist-packages (from google-auth<2,>=1.6.3->tensorboard~=2.5->tensorflow) (4.2.2)\n",
            "Requirement already satisfied: requests-oauthlib>=0.7.0 in /usr/local/lib/python3.7/dist-packages (from google-auth-oauthlib<0.5,>=0.4.1->tensorboard~=2.5->tensorflow) (1.3.0)\n",
            "Requirement already satisfied: importlib-metadata in /usr/local/lib/python3.7/dist-packages (from markdown>=2.6.8->tensorboard~=2.5->tensorflow) (2.1.1)\n",
            "Requirement already satisfied: pyasn1<0.5.0,>=0.4.6 in /usr/local/lib/python3.7/dist-packages (from pyasn1-modules>=0.2.1->google-auth<2,>=1.6.3->tensorboard~=2.5->tensorflow) (0.4.8)\n",
            "Requirement already satisfied: urllib3!=1.25.0,!=1.25.1,<1.26,>=1.21.1 in /usr/local/lib/python3.7/dist-packages (from requests<3,>=2.21.0->tensorboard~=2.5->tensorflow) (1.24.3)\n",
            "Requirement already satisfied: certifi>=2017.4.17 in /usr/local/lib/python3.7/dist-packages (from requests<3,>=2.21.0->tensorboard~=2.5->tensorflow) (2021.5.30)\n",
            "Requirement already satisfied: idna<3,>=2.5 in /usr/local/lib/python3.7/dist-packages (from requests<3,>=2.21.0->tensorboard~=2.5->tensorflow) (2.10)\n",
            "Requirement already satisfied: chardet<4,>=3.0.2 in /usr/local/lib/python3.7/dist-packages (from requests<3,>=2.21.0->tensorboard~=2.5->tensorflow) (3.0.4)\n",
            "Requirement already satisfied: oauthlib>=3.0.0 in /usr/local/lib/python3.7/dist-packages (from requests-oauthlib>=0.7.0->google-auth-oauthlib<0.5,>=0.4.1->tensorboard~=2.5->tensorflow) (3.1.1)\n",
            "Requirement already satisfied: dill in /usr/local/lib/python3.7/dist-packages (from tensorflow-datasets) (0.3.4)\n",
            "Requirement already satisfied: attrs>=18.1.0 in /usr/local/lib/python3.7/dist-packages (from tensorflow-datasets) (21.2.0)\n",
            "Requirement already satisfied: promise in /usr/local/lib/python3.7/dist-packages (from tensorflow-datasets) (2.3)\n",
            "Requirement already satisfied: importlib-resources in /usr/local/lib/python3.7/dist-packages (from tensorflow-datasets) (5.2.0)\n",
            "Requirement already satisfied: tensorflow-metadata in /usr/local/lib/python3.7/dist-packages (from tensorflow-datasets) (1.1.0)\n",
            "Requirement already satisfied: tqdm in /usr/local/lib/python3.7/dist-packages (from tensorflow-datasets) (4.41.1)\n",
            "Requirement already satisfied: dm-tree in /usr/local/lib/python3.7/dist-packages (from tensorflow-datasets) (0.1.6)\n",
            "Requirement already satisfied: future in /usr/local/lib/python3.7/dist-packages (from tensorflow-datasets) (0.16.0)\n",
            "Requirement already satisfied: zipp>=0.5 in /usr/local/lib/python3.7/dist-packages (from importlib-metadata->markdown>=2.6.8->tensorboard~=2.5->tensorflow) (3.5.0)\n",
            "Requirement already satisfied: googleapis-common-protos<2,>=1.52.0 in /usr/local/lib/python3.7/dist-packages (from tensorflow-metadata->tensorflow-datasets) (1.53.0)\n"
          ],
          "name": "stdout"
        }
      ]
    },
    {
      "cell_type": "markdown",
      "metadata": {
        "id": "R0UX1g1_gQHP"
      },
      "source": [
        "The following code cell defines a variable equal to the location inside your Google Drive where you copied the ch03 folder"
      ]
    },
    {
      "cell_type": "code",
      "metadata": {
        "id": "ETNDrge2gQHW"
      },
      "source": [
        "##### TODO CHANGE THIS TO THE PATH IN GOOGLE DRIVE WHERE YOU COPIED THE ch03 FOLDER #####\n",
        "google_drive_root='/machine-learning/Project One Jordan Sinclair'"
      ],
      "execution_count": null,
      "outputs": []
    },
    {
      "cell_type": "code",
      "metadata": {
        "id": "q1uDwAzrhfmC"
      },
      "source": [
        "google_drive_mount_location = '/content/drive'\n",
        "google_file_prefix=google_drive_mount_location + '/My Drive/' + google_drive_root + '/'"
      ],
      "execution_count": null,
      "outputs": []
    },
    {
      "cell_type": "markdown",
      "metadata": {
        "id": "-6HBVmy6fmNx"
      },
      "source": [
        "The following code cell mounts your Google Drive into the runtime of the workbook, so that you can access files."
      ]
    },
    {
      "cell_type": "code",
      "metadata": {
        "id": "8CRN2nETfghz",
        "colab": {
          "base_uri": "https://localhost:8080/"
        },
        "outputId": "8538aec1-27ad-4507-a66d-026e41bdd39c"
      },
      "source": [
        "# Read more here: https://colab.research.google.com/notebooks/io.ipynb#scrollTo=D78AM1fFt2ty\n",
        "from google.colab import drive\n",
        "drive.mount(google_drive_mount_location)"
      ],
      "execution_count": null,
      "outputs": [
        {
          "output_type": "stream",
          "text": [
            "Mounted at /content/drive\n"
          ],
          "name": "stdout"
        }
      ]
    },
    {
      "cell_type": "markdown",
      "metadata": {
        "id": "XK6hSBZWLSQg"
      },
      "source": [
        "# <h1><center><b>Experiment Objective</b></center></h1>"
      ]
    },
    {
      "cell_type": "markdown",
      "metadata": {
        "id": "ZQWLo1HDLjmJ"
      },
      "source": [
        "<body>\n",
        "<center>\n",
        "\n",
        "I chose to create my own dataset for this project by gathering accelerometer and gyroscope data from an MPU6050 sensor and an Arduino Uno. This dataset was categorized into four main classes:\n",
        "\n",
        "\n",
        "<b>\n",
        "Up\n",
        "\n",
        "Down\n",
        "\n",
        "Left\n",
        "\n",
        "Right\n",
        "</b>\n",
        "\n",
        "It is intended to be used in the future as a part of another project I am working on: the Tactile Color Control (TCC). As the controller is moved up or down, it will increase or decrease the brush size in an art application, Procreate. Additionally, if it is rotated left or right, the controller will change the color along a colorwheel. \n",
        "The dataset includes 1000 samples; 250 of each of the four classes. There are several missing values, as shown below. \n",
        "\n",
        "The Arduino Terms of Service include the following paragraph describing it's use in creating projects:\n",
        "\n",
        "In general, we're happy to see people talking about Arduino, writing tutorials about Arduino, discussing projects that use Arduino boards, using the Arduino software with their hardware, etc. The project depends on the creations of the community, and we want to encourage these activities.\n",
        "\n",
        "Additionally, the following constraints are implemented: \n",
        "\n",
        "\n",
        "*   what you are referring to must, in fact, meet the guidelines described above,\n",
        "\n",
        "*   you do not imply that your work is affiliated with or endorsed by the Arduino team if you haven't talked with us,\n",
        "\n",
        "*   you do not include the word \"Arduino\" (or derivatives thereof) in the name of your product, company, or domain name without permission\n",
        "\n",
        "\n",
        "Policy. Arduino. (n.d.). https://www.arduino.cc/en/main/policy\n",
        "</center>\n",
        "</body>\n"
      ]
    },
    {
      "cell_type": "markdown",
      "metadata": {
        "id": "9sEEnOniKSv2"
      },
      "source": [
        "# <center><b>Imports</b></center>"
      ]
    },
    {
      "cell_type": "code",
      "metadata": {
        "id": "EjOYlKOUhn4Y"
      },
      "source": [
        "#Imports image so that any relevant pictures can be displayed. \n",
        "from IPython.display import Image\n",
        "\n",
        "#Imports for data preprocessing:\n",
        "import numpy as np\n",
        "import pandas as pd\n",
        "from io import StringIO\n",
        "import sys\n",
        "from sklearn.impute import SimpleImputer\n",
        "from sklearn.preprocessing import OneHotEncoder\n",
        "from sklearn.compose import ColumnTransformer\n",
        "from sklearn.preprocessing import MinMaxScaler\n",
        "from sklearn.impute import KNNImputer\n",
        "\n",
        "#For plotting:\n",
        "%matplotlib inline\n",
        "import matplotlib.pyplot as plt\n",
        "\n",
        "#For machine learning models:\n",
        "from sklearn.model_selection import train_test_split\n",
        "from sklearn.ensemble import RandomForestClassifier\n",
        "from sklearn.neighbors import KNeighborsClassifier\n",
        "from sklearn.svm import SVC\n",
        "from sklearn.model_selection import GridSearchCV"
      ],
      "execution_count": null,
      "outputs": []
    },
    {
      "cell_type": "markdown",
      "metadata": {
        "id": "JKwg3t0hhttA"
      },
      "source": [
        "# <h1><center><b>Data Collection</b></center></h1>"
      ]
    },
    {
      "cell_type": "markdown",
      "metadata": {
        "id": "mCaJlVU6TF5Z"
      },
      "source": [
        "I used an Arduino Uno, and Excel's Data Streamer to collect data from an MPU-6050 accelerometer and gyroscope sensor. The following code shows the Arduino sketch I used to run the accelerometer. \n",
        "\n",
        "\n",
        "```\n",
        "#include <Wire.h>\n",
        "\n",
        "const int MPU_ADDR = 0x68;\n",
        "\n",
        "int16_t ax, ay, az;\n",
        "int16_t gx, gy, gz;\n",
        "\n",
        "char tmp_str[7];\n",
        "\n",
        "char* convert_int16_to_str(int16_t i) {\n",
        "  sprintf(tmp_str, \"%6d\", i);\n",
        "  return tmp_str;\n",
        "}\n",
        "\n",
        "void setup() {\n",
        "  Serial.begin(9600);\n",
        "  Wire.begin();\n",
        "  Wire.beginTransmission(MPU_ADDR);\n",
        "  Wire.write(0x68);\n",
        "  Wire.write(0);\n",
        "  Wire.endTransmission(true);\n",
        "}\n",
        "\n",
        "void loop() {\n",
        "  Wire.beginTransmission(MPU_ADDR);\n",
        "  Wire.write(0x3B);\n",
        "  Wire.endTransmission(false);\n",
        "  Wire.requestFrom(MPU_ADDR, 6*2, true);\n",
        "  \n",
        "  ax = Wire.read() << 8 | Wire.read();\n",
        "  ay = Wire.read() << 8 | Wire.read();\n",
        "  az = Wire.read() << 8 | Wire.read();\n",
        "  gx = Wire.read() << 8 | Wire.read();\n",
        "  gy = Wire.read() << 8 | Wire.read();\n",
        "  gz = Wire.read() << 8 | Wire.read();\n",
        "\n",
        "  Serial.print(convert_int16_to_str(ax));\n",
        "  Serial.print(\", \");\n",
        "  Serial.print(convert_int16_to_str(ay));\n",
        "  Serial.print(\", \");\n",
        "  Serial.print(convert_int16_to_str(az));\n",
        "  Serial.print(\", \");\n",
        "  Serial.print(convert_int16_to_str(gx));\n",
        "  Serial.print(\", \");\n",
        "  Serial.print(convert_int16_to_str(gy));\n",
        "  Serial.print(\", \");\n",
        "  Serial.print(convert_int16_to_str(gz));\n",
        "  Serial.println();\n",
        "\n",
        "  delay(150);\n",
        "}\n",
        "```\n",
        "\n",
        "I referenced the following YouTube videos when writing the Arduino program and learning how to use Excel's Data Streamer to convert the Serial output from the Arduino to a csv format. \n",
        "\n",
        "Michael Schoeffler. (2017, October 14). <i>Tutorial: Gyroscope and Accelerometer GY-521/MPU6050) with Arduino</i>. [Video]. YouTube. https://youtu.be/wTfSfhjhAU0\n",
        "\n",
        "Jen Foxbot. (2019, May 3). <i>How to Read Arduino into Excel!</i> [Video]. YouTube. https://youtu.be/DS09LYh6n4k"
      ]
    },
    {
      "cell_type": "markdown",
      "metadata": {
        "id": "LzDbrK0NT4I_"
      },
      "source": [
        "The following cell retreives the csv data file downloaded from Excel. "
      ]
    },
    {
      "cell_type": "code",
      "metadata": {
        "colab": {
          "base_uri": "https://localhost:8080/"
        },
        "id": "6RHkAgqEhyg4",
        "outputId": "67d7026c-af90-4de0-ea50-520983599901"
      },
      "source": [
        "#Location of the dataset in Google Drive \n",
        "data = google_file_prefix + 'AccGyroData.csv'\n",
        "\n",
        "#If using a version before 3.0, the dataset must be converted to unicode.\n",
        "if (sys.version_info < (3, 0)):\n",
        "    data = unicode(data)\n",
        "\n",
        "#Reads the csv data into a Pandas DataFrame, df. \n",
        "df = pd.read_csv(data, header=None, encoding='utf-8')\n",
        "\n",
        "#Shows the first five rows of the dataset. \n",
        "df.head()"
      ],
      "execution_count": null,
      "outputs": [
        {
          "output_type": "execute_result",
          "data": {
            "text/html": [
              "<div>\n",
              "<style scoped>\n",
              "    .dataframe tbody tr th:only-of-type {\n",
              "        vertical-align: middle;\n",
              "    }\n",
              "\n",
              "    .dataframe tbody tr th {\n",
              "        vertical-align: top;\n",
              "    }\n",
              "\n",
              "    .dataframe thead th {\n",
              "        text-align: right;\n",
              "    }\n",
              "</style>\n",
              "<table border=\"1\" class=\"dataframe\">\n",
              "  <thead>\n",
              "    <tr style=\"text-align: right;\">\n",
              "      <th></th>\n",
              "      <th>0</th>\n",
              "      <th>1</th>\n",
              "      <th>2</th>\n",
              "      <th>3</th>\n",
              "      <th>4</th>\n",
              "      <th>5</th>\n",
              "      <th>6</th>\n",
              "    </tr>\n",
              "  </thead>\n",
              "  <tbody>\n",
              "    <tr>\n",
              "      <th>0</th>\n",
              "      <td>2368.0</td>\n",
              "      <td>-5292.0</td>\n",
              "      <td>16204.0</td>\n",
              "      <td>1408.0</td>\n",
              "      <td>699.0</td>\n",
              "      <td>1417.0</td>\n",
              "      <td>IN</td>\n",
              "    </tr>\n",
              "    <tr>\n",
              "      <th>1</th>\n",
              "      <td>2940.0</td>\n",
              "      <td>-4804.0</td>\n",
              "      <td>15836.0</td>\n",
              "      <td>1360.0</td>\n",
              "      <td>480.0</td>\n",
              "      <td>1582.0</td>\n",
              "      <td>IN</td>\n",
              "    </tr>\n",
              "    <tr>\n",
              "      <th>2</th>\n",
              "      <td>904.0</td>\n",
              "      <td>-4580.0</td>\n",
              "      <td>14472.0</td>\n",
              "      <td>1408.0</td>\n",
              "      <td>876.0</td>\n",
              "      <td>2274.0</td>\n",
              "      <td>IN</td>\n",
              "    </tr>\n",
              "    <tr>\n",
              "      <th>3</th>\n",
              "      <td>2436.0</td>\n",
              "      <td>-5412.0</td>\n",
              "      <td>17144.0</td>\n",
              "      <td>1360.0</td>\n",
              "      <td>-1909.0</td>\n",
              "      <td>967.0</td>\n",
              "      <td>IN</td>\n",
              "    </tr>\n",
              "    <tr>\n",
              "      <th>4</th>\n",
              "      <td>952.0</td>\n",
              "      <td>-5580.0</td>\n",
              "      <td>17124.0</td>\n",
              "      <td>1424.0</td>\n",
              "      <td>-1747.0</td>\n",
              "      <td>853.0</td>\n",
              "      <td>IN</td>\n",
              "    </tr>\n",
              "  </tbody>\n",
              "</table>\n",
              "</div>"
            ],
            "text/plain": [
              "        0       1        2       3       4       5   6\n",
              "0  2368.0 -5292.0  16204.0  1408.0   699.0  1417.0  IN\n",
              "1  2940.0 -4804.0  15836.0  1360.0   480.0  1582.0  IN\n",
              "2   904.0 -4580.0  14472.0  1408.0   876.0  2274.0  IN\n",
              "3  2436.0 -5412.0  17144.0  1360.0 -1909.0   967.0  IN\n",
              "4   952.0 -5580.0  17124.0  1424.0 -1747.0   853.0  IN"
            ]
          },
          "metadata": {
            "tags": []
          },
          "execution_count": 47
        }
      ]
    },
    {
      "cell_type": "markdown",
      "metadata": {
        "id": "q7zG1aVdDiNH"
      },
      "source": [
        "# <center><b>Data Preprocessing</b></center>"
      ]
    },
    {
      "cell_type": "markdown",
      "metadata": {
        "id": "-uffmJUyDpgp"
      },
      "source": [
        "I changed the names of the columns below because I thought it might make it easier to use while preprocessing rather than remembering which number went to each feature column. "
      ]
    },
    {
      "cell_type": "code",
      "metadata": {
        "colab": {
          "base_uri": "https://localhost:8080/",
          "height": 205
        },
        "id": "VB_rqXn2Uv6i",
        "outputId": "c7376c42-0cb7-4564-d9f5-9099fa3471d3"
      },
      "source": [
        "#Sets the column names. \n",
        "df.columns = [\"AccX\", \"AccY\", \"AccZ\", \"GyroX\", \"GyroY\", \"GyroZ\", \"class_label\"]\n",
        "df.head()"
      ],
      "execution_count": null,
      "outputs": [
        {
          "output_type": "execute_result",
          "data": {
            "text/html": [
              "<div>\n",
              "<style scoped>\n",
              "    .dataframe tbody tr th:only-of-type {\n",
              "        vertical-align: middle;\n",
              "    }\n",
              "\n",
              "    .dataframe tbody tr th {\n",
              "        vertical-align: top;\n",
              "    }\n",
              "\n",
              "    .dataframe thead th {\n",
              "        text-align: right;\n",
              "    }\n",
              "</style>\n",
              "<table border=\"1\" class=\"dataframe\">\n",
              "  <thead>\n",
              "    <tr style=\"text-align: right;\">\n",
              "      <th></th>\n",
              "      <th>AccX</th>\n",
              "      <th>AccY</th>\n",
              "      <th>AccZ</th>\n",
              "      <th>GyroX</th>\n",
              "      <th>GyroY</th>\n",
              "      <th>GyroZ</th>\n",
              "      <th>class_label</th>\n",
              "    </tr>\n",
              "  </thead>\n",
              "  <tbody>\n",
              "    <tr>\n",
              "      <th>0</th>\n",
              "      <td>2368.0</td>\n",
              "      <td>-5292.0</td>\n",
              "      <td>16204.0</td>\n",
              "      <td>1408.0</td>\n",
              "      <td>699.0</td>\n",
              "      <td>1417.0</td>\n",
              "      <td>IN</td>\n",
              "    </tr>\n",
              "    <tr>\n",
              "      <th>1</th>\n",
              "      <td>2940.0</td>\n",
              "      <td>-4804.0</td>\n",
              "      <td>15836.0</td>\n",
              "      <td>1360.0</td>\n",
              "      <td>480.0</td>\n",
              "      <td>1582.0</td>\n",
              "      <td>IN</td>\n",
              "    </tr>\n",
              "    <tr>\n",
              "      <th>2</th>\n",
              "      <td>904.0</td>\n",
              "      <td>-4580.0</td>\n",
              "      <td>14472.0</td>\n",
              "      <td>1408.0</td>\n",
              "      <td>876.0</td>\n",
              "      <td>2274.0</td>\n",
              "      <td>IN</td>\n",
              "    </tr>\n",
              "    <tr>\n",
              "      <th>3</th>\n",
              "      <td>2436.0</td>\n",
              "      <td>-5412.0</td>\n",
              "      <td>17144.0</td>\n",
              "      <td>1360.0</td>\n",
              "      <td>-1909.0</td>\n",
              "      <td>967.0</td>\n",
              "      <td>IN</td>\n",
              "    </tr>\n",
              "    <tr>\n",
              "      <th>4</th>\n",
              "      <td>952.0</td>\n",
              "      <td>-5580.0</td>\n",
              "      <td>17124.0</td>\n",
              "      <td>1424.0</td>\n",
              "      <td>-1747.0</td>\n",
              "      <td>853.0</td>\n",
              "      <td>IN</td>\n",
              "    </tr>\n",
              "  </tbody>\n",
              "</table>\n",
              "</div>"
            ],
            "text/plain": [
              "     AccX    AccY     AccZ   GyroX   GyroY   GyroZ class_label\n",
              "0  2368.0 -5292.0  16204.0  1408.0   699.0  1417.0          IN\n",
              "1  2940.0 -4804.0  15836.0  1360.0   480.0  1582.0          IN\n",
              "2   904.0 -4580.0  14472.0  1408.0   876.0  2274.0          IN\n",
              "3  2436.0 -5412.0  17144.0  1360.0 -1909.0   967.0          IN\n",
              "4   952.0 -5580.0  17124.0  1424.0 -1747.0   853.0          IN"
            ]
          },
          "metadata": {
            "tags": []
          },
          "execution_count": 48
        }
      ]
    },
    {
      "cell_type": "markdown",
      "metadata": {
        "id": "bVmGjO0aVtZg"
      },
      "source": [
        "Since the class labels are currently categorical rather than numerical, it is necessary to create a class mapping that essentially maps each unique label to an integer counterpart so that they are identifiabile by the machine learning algorithms. "
      ]
    },
    {
      "cell_type": "code",
      "metadata": {
        "colab": {
          "base_uri": "https://localhost:8080/"
        },
        "id": "Gnpiq8ruikKS",
        "outputId": "92e26cd9-0950-420a-df16-bf46bf332da0"
      },
      "source": [
        "#Creates a class mapping so that each categorical label is mapped to an integer. \n",
        "class_mapping = {label: idx for idx, label in enumerate(np.unique(df['class_label']))}\n",
        "class_mapping"
      ],
      "execution_count": null,
      "outputs": [
        {
          "output_type": "execute_result",
          "data": {
            "text/plain": [
              "{'IN': 0, 'LEFT': 1, 'OUT': 2, 'RIGHT': 3}"
            ]
          },
          "metadata": {
            "tags": []
          },
          "execution_count": 49
        }
      ]
    },
    {
      "cell_type": "code",
      "metadata": {
        "id": "jMRP1vVfitYF"
      },
      "source": [
        "#Converts the current class labels\n",
        "df['class_label'] = df['class_label'].map(class_mapping)"
      ],
      "execution_count": null,
      "outputs": []
    },
    {
      "cell_type": "markdown",
      "metadata": {
        "id": "OgoioaO0FW7b"
      },
      "source": [
        "Now the class labels are represented as integers between 0 and 3, as shown below. "
      ]
    },
    {
      "cell_type": "code",
      "metadata": {
        "colab": {
          "base_uri": "https://localhost:8080/",
          "height": 421
        },
        "id": "1iqZmiwrixn4",
        "outputId": "78bd66a6-a6e0-4526-d754-27657ebc953a"
      },
      "source": [
        "df"
      ],
      "execution_count": null,
      "outputs": [
        {
          "output_type": "execute_result",
          "data": {
            "text/html": [
              "<div>\n",
              "<style scoped>\n",
              "    .dataframe tbody tr th:only-of-type {\n",
              "        vertical-align: middle;\n",
              "    }\n",
              "\n",
              "    .dataframe tbody tr th {\n",
              "        vertical-align: top;\n",
              "    }\n",
              "\n",
              "    .dataframe thead th {\n",
              "        text-align: right;\n",
              "    }\n",
              "</style>\n",
              "<table border=\"1\" class=\"dataframe\">\n",
              "  <thead>\n",
              "    <tr style=\"text-align: right;\">\n",
              "      <th></th>\n",
              "      <th>AccX</th>\n",
              "      <th>AccY</th>\n",
              "      <th>AccZ</th>\n",
              "      <th>GyroX</th>\n",
              "      <th>GyroY</th>\n",
              "      <th>GyroZ</th>\n",
              "      <th>class_label</th>\n",
              "    </tr>\n",
              "  </thead>\n",
              "  <tbody>\n",
              "    <tr>\n",
              "      <th>0</th>\n",
              "      <td>2368.0</td>\n",
              "      <td>-5292.0</td>\n",
              "      <td>16204.0</td>\n",
              "      <td>1408.0</td>\n",
              "      <td>699.0</td>\n",
              "      <td>1417.0</td>\n",
              "      <td>0</td>\n",
              "    </tr>\n",
              "    <tr>\n",
              "      <th>1</th>\n",
              "      <td>2940.0</td>\n",
              "      <td>-4804.0</td>\n",
              "      <td>15836.0</td>\n",
              "      <td>1360.0</td>\n",
              "      <td>480.0</td>\n",
              "      <td>1582.0</td>\n",
              "      <td>0</td>\n",
              "    </tr>\n",
              "    <tr>\n",
              "      <th>2</th>\n",
              "      <td>904.0</td>\n",
              "      <td>-4580.0</td>\n",
              "      <td>14472.0</td>\n",
              "      <td>1408.0</td>\n",
              "      <td>876.0</td>\n",
              "      <td>2274.0</td>\n",
              "      <td>0</td>\n",
              "    </tr>\n",
              "    <tr>\n",
              "      <th>3</th>\n",
              "      <td>2436.0</td>\n",
              "      <td>-5412.0</td>\n",
              "      <td>17144.0</td>\n",
              "      <td>1360.0</td>\n",
              "      <td>-1909.0</td>\n",
              "      <td>967.0</td>\n",
              "      <td>0</td>\n",
              "    </tr>\n",
              "    <tr>\n",
              "      <th>4</th>\n",
              "      <td>952.0</td>\n",
              "      <td>-5580.0</td>\n",
              "      <td>17124.0</td>\n",
              "      <td>1424.0</td>\n",
              "      <td>-1747.0</td>\n",
              "      <td>853.0</td>\n",
              "      <td>0</td>\n",
              "    </tr>\n",
              "    <tr>\n",
              "      <th>...</th>\n",
              "      <td>...</td>\n",
              "      <td>...</td>\n",
              "      <td>...</td>\n",
              "      <td>...</td>\n",
              "      <td>...</td>\n",
              "      <td>...</td>\n",
              "      <td>...</td>\n",
              "    </tr>\n",
              "    <tr>\n",
              "      <th>995</th>\n",
              "      <td>1376.0</td>\n",
              "      <td>1260.0</td>\n",
              "      <td>17176.0</td>\n",
              "      <td>1664.0</td>\n",
              "      <td>-33.0</td>\n",
              "      <td>282.0</td>\n",
              "      <td>3</td>\n",
              "    </tr>\n",
              "    <tr>\n",
              "      <th>996</th>\n",
              "      <td>1368.0</td>\n",
              "      <td>1268.0</td>\n",
              "      <td>17128.0</td>\n",
              "      <td>1728.0</td>\n",
              "      <td>-54.0</td>\n",
              "      <td>306.0</td>\n",
              "      <td>3</td>\n",
              "    </tr>\n",
              "    <tr>\n",
              "      <th>997</th>\n",
              "      <td>1404.0</td>\n",
              "      <td>1224.0</td>\n",
              "      <td>17192.0</td>\n",
              "      <td>1728.0</td>\n",
              "      <td>-37.0</td>\n",
              "      <td>288.0</td>\n",
              "      <td>3</td>\n",
              "    </tr>\n",
              "    <tr>\n",
              "      <th>998</th>\n",
              "      <td>1396.0</td>\n",
              "      <td>1208.0</td>\n",
              "      <td>17160.0</td>\n",
              "      <td>1664.0</td>\n",
              "      <td>-47.0</td>\n",
              "      <td>296.0</td>\n",
              "      <td>3</td>\n",
              "    </tr>\n",
              "    <tr>\n",
              "      <th>999</th>\n",
              "      <td>1336.0</td>\n",
              "      <td>1192.0</td>\n",
              "      <td>17172.0</td>\n",
              "      <td>1728.0</td>\n",
              "      <td>-28.0</td>\n",
              "      <td>308.0</td>\n",
              "      <td>3</td>\n",
              "    </tr>\n",
              "  </tbody>\n",
              "</table>\n",
              "<p>1000 rows × 7 columns</p>\n",
              "</div>"
            ],
            "text/plain": [
              "       AccX    AccY     AccZ   GyroX   GyroY   GyroZ  class_label\n",
              "0    2368.0 -5292.0  16204.0  1408.0   699.0  1417.0            0\n",
              "1    2940.0 -4804.0  15836.0  1360.0   480.0  1582.0            0\n",
              "2     904.0 -4580.0  14472.0  1408.0   876.0  2274.0            0\n",
              "3    2436.0 -5412.0  17144.0  1360.0 -1909.0   967.0            0\n",
              "4     952.0 -5580.0  17124.0  1424.0 -1747.0   853.0            0\n",
              "..      ...     ...      ...     ...     ...     ...          ...\n",
              "995  1376.0  1260.0  17176.0  1664.0   -33.0   282.0            3\n",
              "996  1368.0  1268.0  17128.0  1728.0   -54.0   306.0            3\n",
              "997  1404.0  1224.0  17192.0  1728.0   -37.0   288.0            3\n",
              "998  1396.0  1208.0  17160.0  1664.0   -47.0   296.0            3\n",
              "999  1336.0  1192.0  17172.0  1728.0   -28.0   308.0            3\n",
              "\n",
              "[1000 rows x 7 columns]"
            ]
          },
          "metadata": {
            "tags": []
          },
          "execution_count": 51
        }
      ]
    },
    {
      "cell_type": "markdown",
      "metadata": {
        "id": "X9H_aGGoHjm2"
      },
      "source": [
        "This cell indicates how many missing values are present in each column of the dataset. There are several rows without data in certain columns. "
      ]
    },
    {
      "cell_type": "code",
      "metadata": {
        "colab": {
          "base_uri": "https://localhost:8080/"
        },
        "id": "PstHJaFJHnPw",
        "outputId": "f786cd5c-0c69-40e5-9bda-865a91fcb6f5"
      },
      "source": [
        "df.isnull().sum()"
      ],
      "execution_count": null,
      "outputs": [
        {
          "output_type": "execute_result",
          "data": {
            "text/plain": [
              "AccX           5\n",
              "AccY           7\n",
              "AccZ           3\n",
              "GyroX          3\n",
              "GyroY          2\n",
              "GyroZ          3\n",
              "class_label    0\n",
              "dtype: int64"
            ]
          },
          "metadata": {
            "tags": []
          },
          "execution_count": 52
        }
      ]
    },
    {
      "cell_type": "markdown",
      "metadata": {
        "id": "_r9XWkgrWJ7e"
      },
      "source": [
        "It is necessary to either impute or drop the missing values in the dataset so that various learning models can be implemented. \n",
        "\n",
        "The following line drops any of the rows that contain less than four real values. "
      ]
    },
    {
      "cell_type": "code",
      "metadata": {
        "colab": {
          "base_uri": "https://localhost:8080/"
        },
        "id": "eESGIdsMkMxA",
        "outputId": "ab94aa4f-7a0a-4f33-cd91-99838d858292"
      },
      "source": [
        "#Drops any missing values with under four real values. \n",
        "df = df.dropna(axis=0, thresh=4)\n",
        "df.shape"
      ],
      "execution_count": null,
      "outputs": [
        {
          "output_type": "execute_result",
          "data": {
            "text/plain": [
              "(999, 7)"
            ]
          },
          "metadata": {
            "tags": []
          },
          "execution_count": 53
        }
      ]
    },
    {
      "cell_type": "markdown",
      "metadata": {
        "id": "KIuqBHA5WeTQ"
      },
      "source": [
        "Since the length of the dataset is now 999, one row had over three missing values. Now the total amount of null values for the data is:"
      ]
    },
    {
      "cell_type": "code",
      "metadata": {
        "colab": {
          "base_uri": "https://localhost:8080/"
        },
        "id": "0xJVTes6qnuH",
        "outputId": "64ea4500-c334-4d6e-d5b8-858c2319c3da"
      },
      "source": [
        "df.isnull().sum()"
      ],
      "execution_count": null,
      "outputs": [
        {
          "output_type": "execute_result",
          "data": {
            "text/plain": [
              "AccX           4\n",
              "AccY           6\n",
              "AccZ           2\n",
              "GyroX          3\n",
              "GyroY          1\n",
              "GyroZ          3\n",
              "class_label    0\n",
              "dtype: int64"
            ]
          },
          "metadata": {
            "tags": []
          },
          "execution_count": 54
        }
      ]
    },
    {
      "cell_type": "markdown",
      "metadata": {
        "id": "3Kec3lEZW7RI"
      },
      "source": [
        "I don't want to remove too many rows from the dataset, so I am going to impute the rest of the missing values. The following piece of the data frame indicates one section that contains a few missing values so that I can compare it before and after imputing. "
      ]
    },
    {
      "cell_type": "code",
      "metadata": {
        "colab": {
          "base_uri": "https://localhost:8080/",
          "height": 267
        },
        "id": "imK1fAU_mev1",
        "outputId": "e71b0a1e-b4f3-4d48-c642-d38e3b1281dd"
      },
      "source": [
        "#Displays a section of the dataframe that contains missing values. \n",
        "df.iloc[[764, 765, 766, 767, 768, 769, 770]]"
      ],
      "execution_count": null,
      "outputs": [
        {
          "output_type": "execute_result",
          "data": {
            "text/html": [
              "<div>\n",
              "<style scoped>\n",
              "    .dataframe tbody tr th:only-of-type {\n",
              "        vertical-align: middle;\n",
              "    }\n",
              "\n",
              "    .dataframe tbody tr th {\n",
              "        vertical-align: top;\n",
              "    }\n",
              "\n",
              "    .dataframe thead th {\n",
              "        text-align: right;\n",
              "    }\n",
              "</style>\n",
              "<table border=\"1\" class=\"dataframe\">\n",
              "  <thead>\n",
              "    <tr style=\"text-align: right;\">\n",
              "      <th></th>\n",
              "      <th>AccX</th>\n",
              "      <th>AccY</th>\n",
              "      <th>AccZ</th>\n",
              "      <th>GyroX</th>\n",
              "      <th>GyroY</th>\n",
              "      <th>GyroZ</th>\n",
              "      <th>class_label</th>\n",
              "    </tr>\n",
              "  </thead>\n",
              "  <tbody>\n",
              "    <tr>\n",
              "      <th>765</th>\n",
              "      <td>408.0</td>\n",
              "      <td>1824.0</td>\n",
              "      <td>17132.0</td>\n",
              "      <td>1552.0</td>\n",
              "      <td>-134.0</td>\n",
              "      <td>264.0</td>\n",
              "      <td>3</td>\n",
              "    </tr>\n",
              "    <tr>\n",
              "      <th>766</th>\n",
              "      <td>NaN</td>\n",
              "      <td>1280.0</td>\n",
              "      <td>17200.0</td>\n",
              "      <td>1504.0</td>\n",
              "      <td>-53.0</td>\n",
              "      <td>273.0</td>\n",
              "      <td>3</td>\n",
              "    </tr>\n",
              "    <tr>\n",
              "      <th>767</th>\n",
              "      <td>692.0</td>\n",
              "      <td>NaN</td>\n",
              "      <td>17308.0</td>\n",
              "      <td>1488.0</td>\n",
              "      <td>-79.0</td>\n",
              "      <td>298.0</td>\n",
              "      <td>3</td>\n",
              "    </tr>\n",
              "    <tr>\n",
              "      <th>768</th>\n",
              "      <td>656.0</td>\n",
              "      <td>1244.0</td>\n",
              "      <td>17112.0</td>\n",
              "      <td>1504.0</td>\n",
              "      <td>-38.0</td>\n",
              "      <td>298.0</td>\n",
              "      <td>3</td>\n",
              "    </tr>\n",
              "    <tr>\n",
              "      <th>769</th>\n",
              "      <td>820.0</td>\n",
              "      <td>1256.0</td>\n",
              "      <td>17152.0</td>\n",
              "      <td>1536.0</td>\n",
              "      <td>-9.0</td>\n",
              "      <td>354.0</td>\n",
              "      <td>3</td>\n",
              "    </tr>\n",
              "    <tr>\n",
              "      <th>770</th>\n",
              "      <td>848.0</td>\n",
              "      <td>1296.0</td>\n",
              "      <td>17180.0</td>\n",
              "      <td>1584.0</td>\n",
              "      <td>-60.0</td>\n",
              "      <td>323.0</td>\n",
              "      <td>3</td>\n",
              "    </tr>\n",
              "    <tr>\n",
              "      <th>771</th>\n",
              "      <td>180.0</td>\n",
              "      <td>1192.0</td>\n",
              "      <td>16996.0</td>\n",
              "      <td>1504.0</td>\n",
              "      <td>-14.0</td>\n",
              "      <td>47.0</td>\n",
              "      <td>3</td>\n",
              "    </tr>\n",
              "  </tbody>\n",
              "</table>\n",
              "</div>"
            ],
            "text/plain": [
              "      AccX    AccY     AccZ   GyroX  GyroY  GyroZ  class_label\n",
              "765  408.0  1824.0  17132.0  1552.0 -134.0  264.0            3\n",
              "766    NaN  1280.0  17200.0  1504.0  -53.0  273.0            3\n",
              "767  692.0     NaN  17308.0  1488.0  -79.0  298.0            3\n",
              "768  656.0  1244.0  17112.0  1504.0  -38.0  298.0            3\n",
              "769  820.0  1256.0  17152.0  1536.0   -9.0  354.0            3\n",
              "770  848.0  1296.0  17180.0  1584.0  -60.0  323.0            3\n",
              "771  180.0  1192.0  16996.0  1504.0  -14.0   47.0            3"
            ]
          },
          "metadata": {
            "tags": []
          },
          "execution_count": 55
        }
      ]
    },
    {
      "cell_type": "markdown",
      "metadata": {
        "id": "bRjiqJfZpA5x"
      },
      "source": [
        "After the following code block runs, those missing values will be imputed. I chose to use Pandas' 'fillna' function in order to impute the null values with a forward fill algorithm. This method will propogate the value present in the last row into the one that is missing. The reason I chose to use a forward fill rather than something like the column average is because of the nature of the data I collected. Each class label has very different feature values and taking the mean of the whole column to fill a missing value would throw the data off by putting, for example, a large number into an area with smaller values. Thus, I decided that carrying the same value from the previous row would be a reasonable approach. "
      ]
    },
    {
      "cell_type": "code",
      "metadata": {
        "colab": {
          "base_uri": "https://localhost:8080/",
          "height": 267
        },
        "id": "EEreASBE0-85",
        "outputId": "18ca3386-b5e8-4f3e-ae12-081efd5998c0"
      },
      "source": [
        "#Fills the missing values with the same value from the row before. \n",
        "#(Forward Fill)\n",
        "df = df.fillna(method='ffill', axis=0) \n",
        "#Shows the same section of the dataset.  \n",
        "df.iloc[[764,765, 766, 767, 768, 769, 770]]"
      ],
      "execution_count": null,
      "outputs": [
        {
          "output_type": "execute_result",
          "data": {
            "text/html": [
              "<div>\n",
              "<style scoped>\n",
              "    .dataframe tbody tr th:only-of-type {\n",
              "        vertical-align: middle;\n",
              "    }\n",
              "\n",
              "    .dataframe tbody tr th {\n",
              "        vertical-align: top;\n",
              "    }\n",
              "\n",
              "    .dataframe thead th {\n",
              "        text-align: right;\n",
              "    }\n",
              "</style>\n",
              "<table border=\"1\" class=\"dataframe\">\n",
              "  <thead>\n",
              "    <tr style=\"text-align: right;\">\n",
              "      <th></th>\n",
              "      <th>AccX</th>\n",
              "      <th>AccY</th>\n",
              "      <th>AccZ</th>\n",
              "      <th>GyroX</th>\n",
              "      <th>GyroY</th>\n",
              "      <th>GyroZ</th>\n",
              "      <th>class_label</th>\n",
              "    </tr>\n",
              "  </thead>\n",
              "  <tbody>\n",
              "    <tr>\n",
              "      <th>765</th>\n",
              "      <td>408.0</td>\n",
              "      <td>1824.0</td>\n",
              "      <td>17132.0</td>\n",
              "      <td>1552.0</td>\n",
              "      <td>-134.0</td>\n",
              "      <td>264.0</td>\n",
              "      <td>3</td>\n",
              "    </tr>\n",
              "    <tr>\n",
              "      <th>766</th>\n",
              "      <td>408.0</td>\n",
              "      <td>1280.0</td>\n",
              "      <td>17200.0</td>\n",
              "      <td>1504.0</td>\n",
              "      <td>-53.0</td>\n",
              "      <td>273.0</td>\n",
              "      <td>3</td>\n",
              "    </tr>\n",
              "    <tr>\n",
              "      <th>767</th>\n",
              "      <td>692.0</td>\n",
              "      <td>1280.0</td>\n",
              "      <td>17308.0</td>\n",
              "      <td>1488.0</td>\n",
              "      <td>-79.0</td>\n",
              "      <td>298.0</td>\n",
              "      <td>3</td>\n",
              "    </tr>\n",
              "    <tr>\n",
              "      <th>768</th>\n",
              "      <td>656.0</td>\n",
              "      <td>1244.0</td>\n",
              "      <td>17112.0</td>\n",
              "      <td>1504.0</td>\n",
              "      <td>-38.0</td>\n",
              "      <td>298.0</td>\n",
              "      <td>3</td>\n",
              "    </tr>\n",
              "    <tr>\n",
              "      <th>769</th>\n",
              "      <td>820.0</td>\n",
              "      <td>1256.0</td>\n",
              "      <td>17152.0</td>\n",
              "      <td>1536.0</td>\n",
              "      <td>-9.0</td>\n",
              "      <td>354.0</td>\n",
              "      <td>3</td>\n",
              "    </tr>\n",
              "    <tr>\n",
              "      <th>770</th>\n",
              "      <td>848.0</td>\n",
              "      <td>1296.0</td>\n",
              "      <td>17180.0</td>\n",
              "      <td>1584.0</td>\n",
              "      <td>-60.0</td>\n",
              "      <td>323.0</td>\n",
              "      <td>3</td>\n",
              "    </tr>\n",
              "    <tr>\n",
              "      <th>771</th>\n",
              "      <td>180.0</td>\n",
              "      <td>1192.0</td>\n",
              "      <td>16996.0</td>\n",
              "      <td>1504.0</td>\n",
              "      <td>-14.0</td>\n",
              "      <td>47.0</td>\n",
              "      <td>3</td>\n",
              "    </tr>\n",
              "  </tbody>\n",
              "</table>\n",
              "</div>"
            ],
            "text/plain": [
              "      AccX    AccY     AccZ   GyroX  GyroY  GyroZ  class_label\n",
              "765  408.0  1824.0  17132.0  1552.0 -134.0  264.0            3\n",
              "766  408.0  1280.0  17200.0  1504.0  -53.0  273.0            3\n",
              "767  692.0  1280.0  17308.0  1488.0  -79.0  298.0            3\n",
              "768  656.0  1244.0  17112.0  1504.0  -38.0  298.0            3\n",
              "769  820.0  1256.0  17152.0  1536.0   -9.0  354.0            3\n",
              "770  848.0  1296.0  17180.0  1584.0  -60.0  323.0            3\n",
              "771  180.0  1192.0  16996.0  1504.0  -14.0   47.0            3"
            ]
          },
          "metadata": {
            "tags": []
          },
          "execution_count": 56
        }
      ]
    },
    {
      "cell_type": "markdown",
      "metadata": {
        "id": "SXyrGdYQpZz4"
      },
      "source": [
        "All of the missing values have now been accounted for, as indicated by the following summary. "
      ]
    },
    {
      "cell_type": "code",
      "metadata": {
        "colab": {
          "base_uri": "https://localhost:8080/"
        },
        "id": "yN9AyKBKnrzG",
        "outputId": "4d3beec8-2a2a-4295-aaca-57b5b25601d2"
      },
      "source": [
        "df.isnull().sum()"
      ],
      "execution_count": null,
      "outputs": [
        {
          "output_type": "execute_result",
          "data": {
            "text/plain": [
              "AccX           0\n",
              "AccY           0\n",
              "AccZ           0\n",
              "GyroX          0\n",
              "GyroY          0\n",
              "GyroZ          0\n",
              "class_label    0\n",
              "dtype: int64"
            ]
          },
          "metadata": {
            "tags": []
          },
          "execution_count": 57
        }
      ]
    },
    {
      "cell_type": "markdown",
      "metadata": {
        "id": "82l_k-lpj73R"
      },
      "source": [
        "Since my preprocessing procedure included removing samples with missing features, it is necessary to verify that each of the classes are still reasonably balanced. Although the third class does have one less example than the rest, I don't think that it will cause a major problem for the model."
      ]
    },
    {
      "cell_type": "code",
      "metadata": {
        "colab": {
          "base_uri": "https://localhost:8080/"
        },
        "id": "hY5wz61-Wqxu",
        "outputId": "764d8efe-4a5f-471e-98d6-8c1035050216"
      },
      "source": [
        "df['class_label'].value_counts() #Counts the number of examples for each class. "
      ],
      "execution_count": null,
      "outputs": [
        {
          "output_type": "execute_result",
          "data": {
            "text/plain": [
              "3    250\n",
              "1    250\n",
              "0    250\n",
              "2    249\n",
              "Name: class_label, dtype: int64"
            ]
          },
          "metadata": {
            "tags": []
          },
          "execution_count": 58
        }
      ]
    },
    {
      "cell_type": "markdown",
      "metadata": {
        "id": "URECo9UcrDl-"
      },
      "source": [
        "I decided to split the data with a 35% test size. I have a smaller dataset and I wanted to ensure that the test set was large enough to maintain a similar accuracy to the training set. Since I have 999 data samples, a 35% split gave about 350 samples to the test set. To show this, I printed the ratio of the training to testing data below. "
      ]
    },
    {
      "cell_type": "code",
      "metadata": {
        "colab": {
          "base_uri": "https://localhost:8080/"
        },
        "id": "YX-lNjA4i0Rc",
        "outputId": "d40ce7ca-3aad-4dfa-ed04-6bd9d370b2ad"
      },
      "source": [
        "#Gets the x (features) and y (class labels) data from the dataframe. \n",
        "X, y = df.iloc[:, 0:6].values, df.iloc[:, 6].values \n",
        "#Designates the training and testing data using the train_test_split function. \n",
        "#Uses a test size of 35% as described above. \n",
        "X_train, X_test, y_train, y_test =\\\n",
        "    train_test_split(X, y, \n",
        "                     test_size=0.35, \n",
        "                     random_state=0, \n",
        "                     stratify=y)\n",
        "#Prints the ratio of training to testing data. \n",
        "print(\"Training/testing: \", len(X_train), \"/\", len(X_test))"
      ],
      "execution_count": null,
      "outputs": [
        {
          "output_type": "stream",
          "text": [
            "Training/testing:  649 / 350\n"
          ],
          "name": "stdout"
        }
      ]
    },
    {
      "cell_type": "markdown",
      "metadata": {
        "id": "cHYxkpowsYT0"
      },
      "source": [
        "The data must be scaled because the accelerometer and gyroscope gave very highly distributed values. If each variable is on the same scale, the model can be more effectively trained. I decided to use the StandardScaler implementation over the MinMaxScaler because my data seems to have several outliers and varying values due to my taking it in maybe not the most accurate way and because of the sensor's capabilities."
      ]
    },
    {
      "cell_type": "code",
      "metadata": {
        "colab": {
          "base_uri": "https://localhost:8080/"
        },
        "id": "CtIQzc35jEI7",
        "outputId": "48e8cc65-b9e9-4741-a73d-65f8d4eb7606"
      },
      "source": [
        "from sklearn.preprocessing import StandardScaler\n",
        "\n",
        "stdsc = StandardScaler() #Creates the standard scaler object\n",
        "#Standardizes the training and test data. \n",
        "X_train_std = stdsc.fit_transform(X_train)\n",
        "X_test_std = stdsc.transform(X_test)\n",
        "#Prints the results of the transformation. \n",
        "print(\"Standardized data:\\n\")\n",
        "print(\"Test -> \\n\", X_test_std)\n",
        "print(\"\\n\")\n",
        "print(\"Train -> \\n\", X_train_std)"
      ],
      "execution_count": null,
      "outputs": [
        {
          "output_type": "stream",
          "text": [
            "Standardized data:\n",
            "\n",
            "Test -> \n",
            " [[-0.24241105  0.74859032  0.350388    0.55730845 -0.02706591  0.03783146]\n",
            " [ 0.00864622  0.74624893  0.42108752 -1.57029852 -0.03140509  0.05133604]\n",
            " [ 0.75113473 -2.2179449  -2.24942636 -0.27009426  0.80132232  0.57544244]\n",
            " ...\n",
            " [ 0.68703501 -2.65695465 -4.99385339 -0.62469542 -1.74222401 -0.15959267]\n",
            " [-0.57893462  0.72283508  0.36002884 -0.74289581 -0.02706591  0.00567769]\n",
            " [-0.54421393  0.76849209  0.37609691  1.38471117 -0.01759862  0.02304073]]\n",
            "\n",
            "\n",
            "Train -> \n",
            " [[ 0.00330458  0.74039547  0.36645607 -1.33389775 -0.02233226  0.01918227]\n",
            " [ 0.08877088 -0.19850005  0.25719317  0.0845069  -0.48938543 -0.17052495]\n",
            " [ 0.42529445  0.66664183  0.51428235  0.91190962  0.05892868  0.11435742]\n",
            " ...\n",
            " [-1.04098682  0.68420222  0.29897016  0.0845069  -0.0191765   0.06098217]\n",
            " [ 0.14218732 -1.48509129 -0.8450767   0.0845069  -0.0527065  -0.2213279 ]\n",
            " [ 0.07274595 -2.96367613 -2.75075027  0.20270729  2.03562078 -0.81167107]]\n"
          ],
          "name": "stdout"
        }
      ]
    },
    {
      "cell_type": "markdown",
      "metadata": {
        "id": "_NDGhwkuvBw9"
      },
      "source": [
        "The data above indicates the new testing and training data standardized to a range that is centered around 0. This is beneficial for implementing algorithms such as the SVM classifier where the weights are initialized at or around 0. "
      ]
    },
    {
      "cell_type": "markdown",
      "metadata": {
        "id": "KKsobNgFvWjd"
      },
      "source": [
        "Now, the most meaningful features can be determined using a random forest and the SelectFromModel object, which will select the most appropriate features given a designated threshold value."
      ]
    },
    {
      "cell_type": "code",
      "metadata": {
        "colab": {
          "base_uri": "https://localhost:8080/",
          "height": 403
        },
        "id": "nxPXvIBVjJpK",
        "outputId": "af7f2dab-a68b-4a78-dab0-f25b37f9815c"
      },
      "source": [
        "#Sets the column labels\n",
        "feat_labels = df.columns[0:6]\n",
        "\n",
        "#Creates a Random Forest Classifier with 500 estimators. \n",
        "forest = RandomForestClassifier(n_estimators=500,\n",
        "                                random_state=1)\n",
        "\n",
        "#Fits the forest to the training data. \n",
        "forest.fit(X_train_std, y_train)\n",
        "#Sets the importances of the features. \n",
        "importances = forest.feature_importances_\n",
        "\n",
        "#Sets the indices relative to the importances. \n",
        "indices = np.argsort(importances)[::-1]\n",
        "\n",
        "for f in range(X_train.shape[1]):\n",
        "  #Prints the importances and labels (in order of importance)\n",
        "    print(\"%2d) %-*s %f\" % (f + 1, 30, \n",
        "                            feat_labels[indices[f]], \n",
        "                            importances[indices[f]]))\n",
        "#Creates a bar chart depicting this data. \n",
        "plt.title('Feature Importance')\n",
        "plt.bar(range(X_train.shape[1]), \n",
        "        importances[indices],\n",
        "        align='center',\n",
        "        color=\"#ffc7f5\")\n",
        "\n",
        "plt.xticks(range(X_train.shape[1]), \n",
        "           feat_labels[indices], rotation=90)\n",
        "plt.xlim([-1, X_train.shape[1]])\n",
        "plt.tight_layout()\n",
        "plt.show()"
      ],
      "execution_count": null,
      "outputs": [
        {
          "output_type": "stream",
          "text": [
            " 1) GyroX                          0.381541\n",
            " 2) AccX                           0.174471\n",
            " 3) AccY                           0.173594\n",
            " 4) GyroY                          0.103889\n",
            " 5) AccZ                           0.086193\n",
            " 6) GyroZ                          0.080311\n"
          ],
          "name": "stdout"
        },
        {
          "output_type": "display_data",
          "data": {
            "image/png": "[encoded data removed]",
            "text/plain": [
              "<Figure size 432x288 with 1 Axes>"
            ]
          },
          "metadata": {
            "tags": [],
            "needs_background": "light"
          }
        }
      ]
    },
    {
      "cell_type": "markdown",
      "metadata": {
        "id": "0bsmCZLY25Ic"
      },
      "source": [
        "Evidently, the most important feature is the x coordinate for the gyroscope sensor. This makes sense because I am primarily trying to track rotational motion. Additionally, the accelerometer x and y components are the next most important; which also makes sense as they correspond to the linear motion of the sensor while rotating. Finally, both the Z coordinates for the accelerometer and gyroscope are the least important feature. This is reasonable because the four classes I decided to measure were not along the z axis. "
      ]
    },
    {
      "cell_type": "markdown",
      "metadata": {
        "id": "1IfOWZj5GN1k"
      },
      "source": [
        "The following graph shows the changes of the gyroscope along the x axis. "
      ]
    },
    {
      "cell_type": "code",
      "metadata": {
        "colab": {
          "base_uri": "https://localhost:8080/",
          "height": 283
        },
        "id": "rGp5V_jjGVZj",
        "outputId": "f71bacdb-075e-4579-8ace-83d3bad00369"
      },
      "source": [
        "plt.plot(df['GyroX'], '#ffc7f5')\n",
        "plt.show"
      ],
      "execution_count": null,
      "outputs": [
        {
          "output_type": "execute_result",
          "data": {
            "text/plain": [
              "<function matplotlib.pyplot.show>"
            ]
          },
          "metadata": {
            "tags": []
          },
          "execution_count": 62
        },
        {
          "output_type": "display_data",
          "data": {
            "image/png": "[encoded data removed]",
            "text/plain": [
              "<Figure size 432x288 with 1 Axes>"
            ]
          },
          "metadata": {
            "tags": [],
            "needs_background": "light"
          }
        }
      ]
    },
    {
      "cell_type": "markdown",
      "metadata": {
        "id": "2eoLa0emGxrv"
      },
      "source": [
        "I can kind of make out the four different directions (up, down, right, and left) in the plot as it seems to have four distinct regions separated around each interval of 250. This further verifies the importance of the gyroscope's x measurements because it is highly correlated with the actual motion of the sensor. "
      ]
    },
    {
      "cell_type": "markdown",
      "metadata": {
        "id": "QmeDvlGjMe2I"
      },
      "source": [
        "Additionally, the following plot compares the gyroscope values in the x direction with the respective class labels. It seems like there is a clear difference between each category, as expected. "
      ]
    },
    {
      "cell_type": "code",
      "metadata": {
        "colab": {
          "base_uri": "https://localhost:8080/",
          "height": 283
        },
        "id": "n0-HFMVhMuEE",
        "outputId": "0eac110d-db2c-4abb-8c2e-9d8d72606877"
      },
      "source": [
        "plt.plot(df['GyroX'], df['class_label'], '#ffc7f5')"
      ],
      "execution_count": null,
      "outputs": [
        {
          "output_type": "execute_result",
          "data": {
            "text/plain": [
              "[<matplotlib.lines.Line2D at 0x7fe9ebd19ed0>]"
            ]
          },
          "metadata": {
            "tags": []
          },
          "execution_count": 63
        },
        {
          "output_type": "display_data",
          "data": {
            "image/png": "[encoded data removed]",
            "text/plain": [
              "<Figure size 432x288 with 1 Axes>"
            ]
          },
          "metadata": {
            "tags": [],
            "needs_background": "light"
          }
        }
      ]
    },
    {
      "cell_type": "markdown",
      "metadata": {
        "id": "3glRBRH2M1xU"
      },
      "source": [
        "On the other hand, this plot shows the gyroscope values in the z direction, the lowest ranked feature. "
      ]
    },
    {
      "cell_type": "code",
      "metadata": {
        "colab": {
          "base_uri": "https://localhost:8080/",
          "height": 283
        },
        "id": "BSHgGGiyNKW0",
        "outputId": "0a749af6-045a-4e33-a6f7-09349189fbae"
      },
      "source": [
        "plt.plot(df['GyroZ'], df['class_label'], '#ffc7f5')"
      ],
      "execution_count": null,
      "outputs": [
        {
          "output_type": "execute_result",
          "data": {
            "text/plain": [
              "[<matplotlib.lines.Line2D at 0x7fe9ebc8fe50>]"
            ]
          },
          "metadata": {
            "tags": []
          },
          "execution_count": 64
        },
        {
          "output_type": "display_data",
          "data": {
            "image/png": "[encoded data removed]",
            "text/plain": [
              "<Figure size 432x288 with 1 Axes>"
            ]
          },
          "metadata": {
            "tags": [],
            "needs_background": "light"
          }
        }
      ]
    },
    {
      "cell_type": "markdown",
      "metadata": {
        "id": "dfQ_uGePNnI0"
      },
      "source": [
        "There is very little difference between the classes, which would make it hard for the machine learning model to make accurate decisions. "
      ]
    },
    {
      "cell_type": "markdown",
      "metadata": {
        "id": "QuPtgDHyVSFD"
      },
      "source": [
        "The following code uses the SelectFromModel feature selection technique to establish which features meet a threshold requirement of 0.12. "
      ]
    },
    {
      "cell_type": "code",
      "metadata": {
        "colab": {
          "base_uri": "https://localhost:8080/"
        },
        "id": "jBdyFNzn60cz",
        "outputId": "68e53b8f-8fe0-4bdc-96a3-8e27d32e4461"
      },
      "source": [
        "from sklearn.feature_selection import SelectFromModel\n",
        "\n",
        "#Creates the select from model object using the forest from above and \n",
        "#the desired threshold. \n",
        "sfm = SelectFromModel(forest, threshold=0.12, prefit=True)\n",
        "#Gets the desired feature columns from the standardized data. \n",
        "X_selected_train = sfm.transform(X_train_std)\n",
        "X_selected_test = sfm.transform(X_test_std)\n",
        "#Creates dataframes from the selected train and test data.\n",
        "A = pd.DataFrame(X_selected_train)\n",
        "B = pd.DataFrame(X_selected_test)\n",
        "#Sets the column names of these dataframes for viewability. \n",
        "A.columns = [\"GyroX\", \"AccX\", \"AccY\"]\n",
        "B.columns = A.columns\n",
        "#Prints the number of features that meet the threshold for the training and \n",
        "#testing data. \n",
        "print('Number of training features that meet this threshold criterion:', \n",
        "      X_selected_train.shape[1])\n",
        "print('Number of test features that meet the threshold criteria: ',\n",
        "      X_selected_test.shape[1])\n"
      ],
      "execution_count": null,
      "outputs": [
        {
          "output_type": "stream",
          "text": [
            "Number of training features that meet this threshold criterion: 3\n",
            "Number of test features that meet the threshold criteria:  3\n"
          ],
          "name": "stdout"
        }
      ]
    },
    {
      "cell_type": "markdown",
      "metadata": {
        "id": "LMo8QXED34aN"
      },
      "source": [
        "There are only three features (shown below) that meet a threshold criteria of 0.12. "
      ]
    },
    {
      "cell_type": "code",
      "metadata": {
        "colab": {
          "base_uri": "https://localhost:8080/",
          "height": 421
        },
        "id": "0OFpuObwVofT",
        "outputId": "961cef36-fb54-46e3-c7b4-23c7a6c6c686"
      },
      "source": [
        "A"
      ],
      "execution_count": null,
      "outputs": [
        {
          "output_type": "execute_result",
          "data": {
            "text/html": [
              "<div>\n",
              "<style scoped>\n",
              "    .dataframe tbody tr th:only-of-type {\n",
              "        vertical-align: middle;\n",
              "    }\n",
              "\n",
              "    .dataframe tbody tr th {\n",
              "        vertical-align: top;\n",
              "    }\n",
              "\n",
              "    .dataframe thead th {\n",
              "        text-align: right;\n",
              "    }\n",
              "</style>\n",
              "<table border=\"1\" class=\"dataframe\">\n",
              "  <thead>\n",
              "    <tr style=\"text-align: right;\">\n",
              "      <th></th>\n",
              "      <th>GyroX</th>\n",
              "      <th>AccX</th>\n",
              "      <th>AccY</th>\n",
              "    </tr>\n",
              "  </thead>\n",
              "  <tbody>\n",
              "    <tr>\n",
              "      <th>0</th>\n",
              "      <td>0.003305</td>\n",
              "      <td>0.740395</td>\n",
              "      <td>-1.333898</td>\n",
              "    </tr>\n",
              "    <tr>\n",
              "      <th>1</th>\n",
              "      <td>0.088771</td>\n",
              "      <td>-0.198500</td>\n",
              "      <td>0.084507</td>\n",
              "    </tr>\n",
              "    <tr>\n",
              "      <th>2</th>\n",
              "      <td>0.425294</td>\n",
              "      <td>0.666642</td>\n",
              "      <td>0.911910</td>\n",
              "    </tr>\n",
              "    <tr>\n",
              "      <th>3</th>\n",
              "      <td>-1.278690</td>\n",
              "      <td>0.274460</td>\n",
              "      <td>1.384711</td>\n",
              "    </tr>\n",
              "    <tr>\n",
              "      <th>4</th>\n",
              "      <td>0.118150</td>\n",
              "      <td>0.796589</td>\n",
              "      <td>1.739312</td>\n",
              "    </tr>\n",
              "    <tr>\n",
              "      <th>...</th>\n",
              "      <td>...</td>\n",
              "      <td>...</td>\n",
              "      <td>...</td>\n",
              "    </tr>\n",
              "    <tr>\n",
              "      <th>644</th>\n",
              "      <td>1.987725</td>\n",
              "      <td>-0.655070</td>\n",
              "      <td>-0.270094</td>\n",
              "    </tr>\n",
              "    <tr>\n",
              "      <th>645</th>\n",
              "      <td>1.613810</td>\n",
              "      <td>-0.479466</td>\n",
              "      <td>-0.388295</td>\n",
              "    </tr>\n",
              "    <tr>\n",
              "      <th>646</th>\n",
              "      <td>-1.040987</td>\n",
              "      <td>0.684202</td>\n",
              "      <td>0.084507</td>\n",
              "    </tr>\n",
              "    <tr>\n",
              "      <th>647</th>\n",
              "      <td>0.142187</td>\n",
              "      <td>-1.485091</td>\n",
              "      <td>0.084507</td>\n",
              "    </tr>\n",
              "    <tr>\n",
              "      <th>648</th>\n",
              "      <td>0.072746</td>\n",
              "      <td>-2.963676</td>\n",
              "      <td>0.202707</td>\n",
              "    </tr>\n",
              "  </tbody>\n",
              "</table>\n",
              "<p>649 rows × 3 columns</p>\n",
              "</div>"
            ],
            "text/plain": [
              "        GyroX      AccX      AccY\n",
              "0    0.003305  0.740395 -1.333898\n",
              "1    0.088771 -0.198500  0.084507\n",
              "2    0.425294  0.666642  0.911910\n",
              "3   -1.278690  0.274460  1.384711\n",
              "4    0.118150  0.796589  1.739312\n",
              "..        ...       ...       ...\n",
              "644  1.987725 -0.655070 -0.270094\n",
              "645  1.613810 -0.479466 -0.388295\n",
              "646 -1.040987  0.684202  0.084507\n",
              "647  0.142187 -1.485091  0.084507\n",
              "648  0.072746 -2.963676  0.202707\n",
              "\n",
              "[649 rows x 3 columns]"
            ]
          },
          "metadata": {
            "tags": []
          },
          "execution_count": 66
        }
      ]
    },
    {
      "cell_type": "markdown",
      "metadata": {
        "id": "unohZh4s4X2L"
      },
      "source": [
        "# <h1><center><b>Model Comparison</b></center></h1>"
      ]
    },
    {
      "cell_type": "markdown",
      "metadata": {
        "id": "y1WV9sb1LRVt"
      },
      "source": [
        "In this section, three different machine learning models will be compared using the accuracy of each on both the testing and training data. I used a grid search for each to establish what the best conditions for each model would be in order to optimize my results when qualifying each model's accuracy. "
      ]
    },
    {
      "cell_type": "markdown",
      "metadata": {
        "id": "iTbleRsHLqoT"
      },
      "source": [
        "First, I decided to see how accurate a Random Forest Classifier would perform. I used a grid search with a varying number of estimators, either a bootstrap or not, and three different options for the random state, in order to determine the best combination for my data. "
      ]
    },
    {
      "cell_type": "code",
      "metadata": {
        "colab": {
          "base_uri": "https://localhost:8080/"
        },
        "id": "3Bu98yMG7tqg",
        "outputId": "6118d75c-3300-4539-fcba-71571e14e6ed"
      },
      "source": [
        "#Random Forest:\n",
        "\n",
        "classifier = RandomForestClassifier(n_estimators=300, random_state=0)\n",
        "grid_param = {\n",
        "    'n_estimators': [100, 200, 500, 900],\n",
        "    'criterion': ['gini'],\n",
        "    'bootstrap': [True, False],\n",
        "    'random_state': [0, 1, 3]\n",
        "}\n",
        "gs = GridSearchCV(estimator=classifier,\n",
        "                  param_grid=grid_param,\n",
        "                  scoring='accuracy',\n",
        "                  cv=5,\n",
        "                  n_jobs=-1)\n",
        "gs.fit(A, y_train)\n",
        "best_parameters = gs.best_params_\n",
        "print(best_parameters)\n",
        "#classifier.get_params().keys()"
      ],
      "execution_count": null,
      "outputs": [
        {
          "output_type": "stream",
          "text": [
            "{'bootstrap': True, 'criterion': 'gini', 'n_estimators': 200, 'random_state': 3}\n"
          ],
          "name": "stdout"
        }
      ]
    },
    {
      "cell_type": "markdown",
      "metadata": {
        "id": "SQHB5KE9Ouv9"
      },
      "source": [
        "It turned out that having 200 estimators, a random state of 3, and a bootstrap was the best. "
      ]
    },
    {
      "cell_type": "markdown",
      "metadata": {
        "id": "j5xqKlqXMg0k"
      },
      "source": [
        "The following code scores the above grid search, random forest, model. It acheived a reasonable score of about 84% accuracy. "
      ]
    },
    {
      "cell_type": "code",
      "metadata": {
        "colab": {
          "base_uri": "https://localhost:8080/"
        },
        "id": "Stpxabsd9Wyh",
        "outputId": "c7bc122a-a35d-44fe-ad47-eddbe9caef47"
      },
      "source": [
        "best_result = gs.best_score_\n",
        "print(best_result)"
      ],
      "execution_count": null,
      "outputs": [
        {
          "output_type": "stream",
          "text": [
            "0.844412641621944\n"
          ],
          "name": "stdout"
        }
      ]
    },
    {
      "cell_type": "markdown",
      "metadata": {
        "id": "JIyiNogpO4ba"
      },
      "source": [
        "Next, I wanted to examine a K Nearest Neighbors classifier. Again, I performed a grid search with varying options for the number of neighbors and p, and three options for the algorithm."
      ]
    },
    {
      "cell_type": "code",
      "metadata": {
        "id": "iRgFm3un9fzo"
      },
      "source": [
        "knn = KNeighborsClassifier(n_neighbors=5, \n",
        "                           p=2, \n",
        "                           metric='minkowski')\n"
      ],
      "execution_count": null,
      "outputs": []
    },
    {
      "cell_type": "code",
      "metadata": {
        "colab": {
          "base_uri": "https://localhost:8080/"
        },
        "id": "16XhGphe-KO1",
        "outputId": "2fe18512-2e95-483e-c766-ad65e3e73d66"
      },
      "source": [
        "grid_param2 = {\n",
        "    'n_neighbors': [3, 5, 10, 20],\n",
        "    'algorithm': ['ball_tree', 'kd_tree', 'brute'],\n",
        "    'metric': ['minkowski'],\n",
        "    'p': [0, 2, 6]\n",
        "}\n",
        "gs2 = GridSearchCV(estimator=knn,\n",
        "                  param_grid=grid_param2,\n",
        "                  scoring='accuracy',\n",
        "                  cv=5,\n",
        "                  n_jobs=-1)\n",
        "gs2.fit(A, y_train)\n",
        "best_parameters2 = gs2.best_params_\n",
        "print(best_parameters2)\n"
      ],
      "execution_count": null,
      "outputs": [
        {
          "output_type": "stream",
          "text": [
            "{'algorithm': 'ball_tree', 'metric': 'minkowski', 'n_neighbors': 10, 'p': 6}\n"
          ],
          "name": "stdout"
        }
      ]
    },
    {
      "cell_type": "markdown",
      "metadata": {
        "id": "Lq-Yb4rPPXJU"
      },
      "source": [
        "As the above results indicate, the best options included the 10 nearest neighbors, a p value of 6, and a ball tree algorithm. "
      ]
    },
    {
      "cell_type": "markdown",
      "metadata": {
        "id": "zPz-z8mzPqST"
      },
      "source": [
        "Now, the KNN algorithm could be scored using the grid search 'best_score' metric. It received a score of about 84.6%, which is very similar, but a little better, than the Random Forest implementation. "
      ]
    },
    {
      "cell_type": "code",
      "metadata": {
        "colab": {
          "base_uri": "https://localhost:8080/"
        },
        "id": "c2UfIadb_6GS",
        "outputId": "a46361c2-47c3-4412-9527-400f6420e920"
      },
      "source": [
        "best_result2 = gs2.best_score_\n",
        "print(best_result2)"
      ],
      "execution_count": null,
      "outputs": [
        {
          "output_type": "stream",
          "text": [
            "0.8459511031604056\n"
          ],
          "name": "stdout"
        }
      ]
    },
    {
      "cell_type": "markdown",
      "metadata": {
        "id": "neD-JZN0P_nn"
      },
      "source": [
        "Finally, I wanted to test an SVC classifier. I hypothesized that it might be the best of the three because it has a lower generalization error and is less apt towards overfitting. Since my data was fairly highly distributed and not super exact, it seemed likely that overfitting may occur in some cases. I attempted to find the best model using a grid search again with several C values, different gamma and kernal options, and various random state values."
      ]
    },
    {
      "cell_type": "code",
      "metadata": {
        "id": "QH1qDTo4AJht"
      },
      "source": [
        "svm = SVC(kernel='rbf', random_state=1, gamma=0.10, C=10.0)"
      ],
      "execution_count": null,
      "outputs": []
    },
    {
      "cell_type": "code",
      "metadata": {
        "colab": {
          "base_uri": "https://localhost:8080/"
        },
        "id": "JNzboHLiBh6i",
        "outputId": "9d491650-a561-4102-ed4e-f409fe0985fb"
      },
      "source": [
        "grid_param3 = {\n",
        "    'kernel': ['linear', 'poly', 'rbf', 'sigmoid', 'computed'],\n",
        "    'gamma': ['scale', 'auto', 0.1, 0.5],\n",
        "    'C': [1, 5, 10, 15],\n",
        "    'random_state': [0, 1, 2, 3]\n",
        "}\n",
        "gs3 = GridSearchCV(estimator=svm,\n",
        "                  param_grid=grid_param3,\n",
        "                  scoring='accuracy',\n",
        "                  cv=5,\n",
        "                  n_jobs=-1)\n",
        "gs3.fit(A, y_train)\n",
        "best_parameters3 = gs3.best_params_\n",
        "print(best_parameters3)\n"
      ],
      "execution_count": null,
      "outputs": [
        {
          "output_type": "stream",
          "text": [
            "{'C': 5, 'gamma': 0.5, 'kernel': 'rbf', 'random_state': 0}\n"
          ],
          "name": "stdout"
        }
      ]
    },
    {
      "cell_type": "markdown",
      "metadata": {
        "id": "yBeONpWwSRob"
      },
      "source": [
        "This grid search resulted in an optimized Support Vector Machine model with a C value of 5, a gamma of 0.5, an rbf kernel, and a random state of 0. This model did actually perform the best, as I hypothesized, with about 86% accuracy. "
      ]
    },
    {
      "cell_type": "code",
      "metadata": {
        "colab": {
          "base_uri": "https://localhost:8080/"
        },
        "id": "im07Qy3SC4P2",
        "outputId": "f4686a1a-af97-44d1-8755-5c0fec30e960"
      },
      "source": [
        "best_result3 = gs3.best_score_\n",
        "print(best_result3)"
      ],
      "execution_count": null,
      "outputs": [
        {
          "output_type": "stream",
          "text": [
            "0.8567084078711986\n"
          ],
          "name": "stdout"
        }
      ]
    },
    {
      "cell_type": "markdown",
      "metadata": {
        "id": "rUKUD1c7S0eJ"
      },
      "source": [
        "The following function was used to verify the results above and print the best performing model. "
      ]
    },
    {
      "cell_type": "code",
      "metadata": {
        "id": "zTg9NQKL12vT"
      },
      "source": [
        "def compare_models(x, y, z):\n",
        "  s = \"\"\n",
        "  if x > y and x > z:\n",
        "    s = \"Model One is the best!\"\n",
        "  elif y > x and y > z:\n",
        "    s = \"Model Two is the best!\"\n",
        "  elif z > x and z > y:\n",
        "    s = \"Model Three is the best!\"\n",
        "  print(s)\n",
        "  return s"
      ],
      "execution_count": null,
      "outputs": []
    },
    {
      "cell_type": "code",
      "metadata": {
        "colab": {
          "base_uri": "https://localhost:8080/"
        },
        "id": "HmHjOsy12cSj",
        "outputId": "9c12dfbb-a4ae-47e4-81f7-f9cba61c498f"
      },
      "source": [
        "best = compare_models(best_result, best_result2, best_result3)"
      ],
      "execution_count": null,
      "outputs": [
        {
          "output_type": "stream",
          "text": [
            "Model Three is the best!\n"
          ],
          "name": "stdout"
        }
      ]
    },
    {
      "cell_type": "markdown",
      "metadata": {
        "id": "FPjip513TDAt"
      },
      "source": [
        "Now, each model must be implemented on the unseen testing data to measure accuracy. The following code determines the best parameters for each model using the same grid search options as above. "
      ]
    },
    {
      "cell_type": "code",
      "metadata": {
        "colab": {
          "base_uri": "https://localhost:8080/"
        },
        "id": "t6mE0nh9DmEm",
        "outputId": "c2f5a48e-9667-46fa-8ccb-5ea20a5dba39"
      },
      "source": [
        "gs.fit(B, y_test)\n",
        "best_parameters = gs.best_params_\n",
        "print(best_parameters)\n",
        "\n",
        "gs2.fit(B, y_test)\n",
        "best_parameters2 = gs2.best_params_\n",
        "print(best_parameters2)\n",
        "\n",
        "gs3.fit(B, y_test)\n",
        "best_parameters3 = gs3.best_params_\n",
        "print(best_parameters3)\n"
      ],
      "execution_count": null,
      "outputs": [
        {
          "output_type": "stream",
          "text": [
            "{'bootstrap': True, 'criterion': 'gini', 'n_estimators': 100, 'random_state': 0}\n",
            "{'algorithm': 'ball_tree', 'metric': 'minkowski', 'n_neighbors': 3, 'p': 2}\n",
            "{'C': 1, 'gamma': 0.5, 'kernel': 'rbf', 'random_state': 0}\n"
          ],
          "name": "stdout"
        }
      ]
    },
    {
      "cell_type": "markdown",
      "metadata": {
        "id": "d7WX8CnVT4ek"
      },
      "source": [
        "The Random Forest Classifier's optimized parameters included a random state of 0, 100 estimators, and a true bootstrap. Additionally, the K Nearest Neighbors method was optimized when using a ball tree algorithm, 3 nearest neighbors, and a p value of 2. Finally, the Support Vector Machine algorithm was best when implementing a random state of 0, a C value of 1, a gamma value of 0.5, and an rbf kernel. "
      ]
    },
    {
      "cell_type": "markdown",
      "metadata": {
        "id": "js-9THFJUwGB"
      },
      "source": [
        "The following block scores each of the optimized algorithms described above. The ranking was similar, where the SVM model was the best for the data, followed by the K Nearest Neighbors, and, in last place, the Random Forest Classifier. "
      ]
    },
    {
      "cell_type": "code",
      "metadata": {
        "colab": {
          "base_uri": "https://localhost:8080/"
        },
        "id": "qf3afjd_EYbw",
        "outputId": "6260cabd-5cf8-4cd0-b3e6-d031e36cd3c0"
      },
      "source": [
        "best_result = gs.best_score_\n",
        "print(best_result)\n",
        "\n",
        "best_result2 = gs2.best_score_\n",
        "print(best_result2)\n",
        "\n",
        "best_result3 = gs3.best_score_\n",
        "print(best_result3)"
      ],
      "execution_count": null,
      "outputs": [
        {
          "output_type": "stream",
          "text": [
            "0.7942857142857143\n",
            "0.8085714285714287\n",
            "0.8171428571428571\n"
          ],
          "name": "stdout"
        }
      ]
    },
    {
      "cell_type": "code",
      "metadata": {
        "colab": {
          "base_uri": "https://localhost:8080/"
        },
        "id": "VO6s7S8JEr-p",
        "outputId": "38a89ff7-6c88-4823-9196-be9118d5a1f5"
      },
      "source": [
        "best_test = compare_models(best_result, best_result2, best_result3)"
      ],
      "execution_count": null,
      "outputs": [
        {
          "output_type": "stream",
          "text": [
            "Model Three is the best!\n"
          ],
          "name": "stdout"
        }
      ]
    },
    {
      "cell_type": "markdown",
      "metadata": {
        "id": "Ej0Vl6ODVEVi"
      },
      "source": [
        "All three models performed slightly worse on the testing data than the training data, where each landed at about 80% rather than 85%.  "
      ]
    },
    {
      "cell_type": "markdown",
      "metadata": {
        "id": "m1htqwqU9s9R"
      },
      "source": [
        "# <center><b>Experiment Summary</b></center>"
      ]
    },
    {
      "cell_type": "markdown",
      "metadata": {
        "id": "t-XViWeG-9iG"
      },
      "source": [
        "I started this experiment by creating my own dataset using an Arduino Uno and MPU-6050 accelerometer and gyroscope. I had a lot of fun learning how to gather data from Arduino into Excel and am really excited to come up with more machine learning implementations with Arduino and other microcontrollers. After collecting the data, I went on to preprocess it using various techniques. I started by resolving the missing values in the dataset by removing those containing fewer than three real values and using pandas 'fillna' method with a forward fill to impute the rest. This resulted in a fairly well balanced dataset. I then went on to map the categorical class labels to integer values. Next, I split the data into training and test sets, where the test set contained 35% of the original. I then standardized the test and training datasets using the Standard Scaler. Finally, the best features were chosen using a Random Forest and Select From Model method. The most meaningful features turned out to be the x coordinate of the gyroscope, and the x and y coordinates of the accelerometer. This lineup was consistant with the physical positions I chose.\n",
        "\n",
        "I decided to compare the Random Forest, K Nearest Neighbors, and Support Vector Machine models. I thought that the SVM algorithm would perform the best of the three, which turned out to be true for both the testing and training data. I was also, however, hopnig that that the accuracy of each model would be a bit higher. The accuracies of the algorithms with the training data were centered around 85% and those for the test set were closer to 80%. While these are acceptable results, I was hoping to see outcomes closer to 90% or 95%. The SVM model performed the best at about 86% accuracy for the training dataset and around 82% for the test set. \n",
        "\n",
        "I learned a lot throughout this process. I feel like I gained a much deeper understanding of how the different techniques and algorithms we have covered so far work together to train and implement applicable models. I also learned more about the ethics of machine learning. Even though I didn't collect data from outside sources, I did use a microcontroller. To be honest, I hadn't given much thought to the fact that Arduino might have its own Terms of Service (TOS) before starting this project. I am glad that I was able to establish the best, and most ethical, means to collect my data. I plan to further my ideas using and to continue working with other microcontrollers in the future and I think that it is incredibly important to consider the ethical implications as well as the regulations in place when doing so. I really enjoyed working on this project. It was really exciting to dive into collecting data with sensors and to implement machine learning for my own application! I plan to eventually use what I have learned through this project in order to actually implement my Tacticle Color Controller. "
      ]
    }
  ]
}